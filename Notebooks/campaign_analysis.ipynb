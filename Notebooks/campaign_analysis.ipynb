{
 "cells": [
  {
   "cell_type": "markdown",
   "metadata": {},
   "source": [
    "# AI Talks Campaign Analysis (SQL + Python)\n\nThis notebook builds a SQLite database from processed CSVs, runs SQL analysis, and visualizes key insights."
   ]
  },
  {
   "cell_type": "code",
   "execution_count": null,
   "metadata": {},
   "outputs": [],
   "source": [
    "from pathlib import Path\n",
    "import sqlite3\n",
    "import pandas as pd\n",
    "import matplotlib.pyplot as plt\n",
    "\n",
    "# Local project imports\n",
    "try:\n",
    "    from scripts.config import ROOT, FILES\n",
    "    from scripts import build_db\n",
    "except ModuleNotFoundError:\n",
    "    import sys\n",
    "    sys.path.append(str(Path.cwd() / 'scripts'))\n",
    "    from config import ROOT, FILES  # type: ignore\n",
    "    import build_db  # type: ignore\n",
    "\n",
    "DB_PATH = ROOT / 'data' / 'ai_talks.sqlite'\n",
    "DB_PATH"
   ]
  },
  {
   "cell_type": "markdown",
   "metadata": {},
   "source": [
    "## Build the SQLite database from processed CSVs"
   ]
  },
  {
   "cell_type": "code",
   "execution_count": null,
   "metadata": {},
   "outputs": [],
   "source": [
    "# Ensure processed CSVs exist (see scripts/extract_from_youtube.py if needed)\n",
    "for name, p in FILES.items():\n",
    "    print(name, Path(p).exists(), p)\n",
    "\n",
    "# Build/refresh the SQLite database\n",
    "build_db.build_sqlite(DB_PATH)\n",
    "DB_PATH.exists()"
   ]
  },
  {
   "cell_type": "markdown",
   "metadata": {},
   "source": [
    "## Helper to run SQL"
   ]
  },
  {
   "cell_type": "code",
   "execution_count": null,
   "metadata": {},
   "outputs": [],
   "source": [
    "def read_sql(query: str) -> pd.DataFrame:\n",
    "    with sqlite3.connect(DB_PATH) as con:\n",
    "        return pd.read_sql_query(query, con)\n",
    "\n",
    "# Quick peek at tables\n",
    "read_sql(\"SELECT name FROM sqlite_master WHERE type='table' ORDER BY name;\")"
   ]
  },
  {
   "cell_type": "markdown",
   "metadata": {},
   "source": [
    "## Top-performing videos"
   ]
  },
  {
   "cell_type": "code",
   "execution_count": null,
   "metadata": {},
   "outputs": [],
   "source": [
    "top_videos = read_sql(\"\n",
    "SELECT COALESCE(video_id,'') AS video_id, COALESCE(title,'') AS title, CAST(views AS INTEGER) AS views\n",
    "FROM content\n",
    "ORDER BY CAST(views AS INTEGER) DESC\n",
    "LIMIT 10;\n",
    "\")\n",
    "top_videos"
   ]
  },
  {
   "cell_type": "code",
   "execution_count": null,
   "metadata": {},
   "outputs": [],
   "source": [
    "plt.figure(figsize=(10,5))\n",
    "plt.barh(top_videos['title'], top_videos['views'])\n",
    "plt.gca().invert_yaxis()\n",
    "plt.title('Top 10 Videos by Views')\n",
    "plt.xlabel('Views')\n",
    "plt.ylabel('Video')\n",
    "plt.tight_layout()\n",
    "plt.show()"
   ]
  },
  {
   "cell_type": "markdown",
   "metadata": {},
   "source": [
    "## Traffic sources"
   ]
  },
  {
   "cell_type": "code",
   "execution_count": null,
   "metadata": {},
   "outputs": [],
   "source": [
    "traffic = read_sql(\"\n",
    "SELECT COALESCE(traffic_source,'Unknown') AS traffic_source, SUM(CAST(views AS INTEGER)) AS total_views\n",
    "FROM traffic\n",
    "GROUP BY traffic_source\n",
    "ORDER BY total_views DESC;\n",
    "\")\n",
    "traffic"
   ]
  },
  {
   "cell_type": "code",
   "execution_count": null,
   "metadata": {},
   "outputs": [],
   "source": [
    "plt.figure(figsize=(10,5))\n",
    "plt.barh(traffic['traffic_source'], traffic['total_views'])\n",
    "plt.gca().invert_yaxis()\n",
    "plt.title('Traffic Sources by Views')\n",
    "plt.xlabel('Views')\n",
    "plt.ylabel('Source')\n",
    "plt.tight_layout()\n",
    "plt.show()"
   ]
  },
  {
   "cell_type": "markdown",
   "metadata": {},
   "source": [
    "## Top countries"
   ]
  },
  {
   "cell_type": "code",
   "execution_count": null,
   "metadata": {},
   "outputs": [],
   "source": [
    "countries = read_sql(\"\n",
    "SELECT COALESCE(country,'Unknown') AS country, SUM(CAST(views AS INTEGER)) AS total_views\n",
    "FROM geography\n",
    "GROUP BY country\n",
    "ORDER BY total_views DESC\n",
    "LIMIT 10;\n",
    "\")\n",
    "countries"
   ]
  },
  {
   "cell_type": "code",
   "execution_count": null,
   "metadata": {},
   "outputs": [],
   "source": [
    "plt.figure(figsize=(10,5))\n",
    "plt.barh(countries['country'], countries['total_views'])\n",
    "plt.gca().invert_yaxis()\n",
    "plt.title('Top Countries by Views')\n",
    "plt.xlabel('Views')\n",
    "plt.ylabel('Country')\n",
    "plt.tight_layout()\n",
    "plt.show()"
   ]
  },
  {
   "cell_type": "markdown",
   "metadata": {},
   "source": [
    "## Subscribers gained over time"
   ]
  },
  {
   "cell_type": "code",
   "execution_count": null,
   "metadata": {},
   "outputs": [],
   "source": [
    "subs = read_sql(\"\n",
    "SELECT date, SUM(CAST(subs_gained AS REAL)) AS subs_gained\n",
    "FROM dates\n",
    "GROUP BY date\n",
    "ORDER BY date ASC;\n",
    "\")\n",
    "subs['date'] = pd.to_datetime(subs['date'], errors='coerce')\n",
    "subs = subs.dropna(subset=['date'])\n",
    "subs"
   ]
  },
  {
   "cell_type": "code",
   "execution_count": null,
   "metadata": {},
   "outputs": [],
   "source": [
    "plt.figure(figsize=(10,4))\n",
    "plt.plot(subs['date'], subs['subs_gained'])\n",
    "plt.title('Subscribers Gained Over Time')\n",
    "plt.xlabel('Date')\n",
    "plt.ylabel('Subscribers Gained')\n",
    "plt.tight_layout()\n",
    "plt.show()"
   ]
  },
  {
   "cell_type": "markdown",
   "metadata": {},
   "source": [
    "## Optional: Generate figures and reports artifacts"
   ]
  },
  {
   "cell_type": "code",
   "execution_count": null,
   "metadata": {},
   "outputs": [],
   "source": [
    "# Run the EDA to save figures and KPIs\n",
    "from scripts import eda_youtube\n",
    "dfs = eda_youtube.load_data()\n",
    "eda_youtube.validate_inputs(dfs)\n",
    "kpis = eda_youtube.kpi_table(dfs)\n",
    "kpis\n"
   ]
  },
  {
   "cell_type": "code",
   "execution_count": null,
   "metadata": {},
   "outputs": [],
   "source": [
    "# Generate data dictionary, executive summary PDF, and PPTX deck\n",
    "from scripts.generate_reports import main as generate_reports_main\n",
    "generate_reports_main()\n",
    "print('Reports generated in /reports')"
   ]
  }
 ],
 "metadata": {
  "kernelspec": {
   "display_name": "Python 3",
   "language": "python",
   "name": "python3"
  },
  "language_info": {
   "name": "python",
   "version": "3.11"
  }
 },
 "nbformat": 4,
 "nbformat_minor": 5
}
